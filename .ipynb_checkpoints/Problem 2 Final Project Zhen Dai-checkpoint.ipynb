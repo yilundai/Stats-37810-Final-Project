{
 "cells": [
  {
   "cell_type": "code",
   "execution_count": 17,
   "metadata": {
    "scrolled": true
   },
   "outputs": [
    {
     "data": {
      "image/png": "[encoded data removed]",
      "text/plain": [
       "<Figure size 432x288 with 1 Axes>"
      ]
     },
     "metadata": {
      "needs_background": "light"
     },
     "output_type": "display_data"
    },
    {
     "data": {
      "image/png": "[encoded data removed]",
      "text/plain": [
       "<Figure size 432x288 with 1 Axes>"
      ]
     },
     "metadata": {
      "needs_background": "light"
     },
     "output_type": "display_data"
    },
    {
     "name": "stdout",
     "output_type": "stream",
     "text": [
      "1.2196836785298035\n",
      "1.2805145303202732\n",
      "1.2577955515463917\n"
     ]
    },
    {
     "data": {
      "image/png": "[encoded data removed]",
      "text/plain": [
       "<Figure size 432x288 with 1 Axes>"
      ]
     },
     "metadata": {
      "needs_background": "light"
     },
     "output_type": "display_data"
    }
   ],
   "source": [
    "import random,math\n",
    "import numpy as np\n",
    "import scipy\n",
    "from scipy import stats\n",
    "from numpy import vstack\n",
    "from numpy import concatenate\n",
    "from pynverse import inversefunc\n",
    "import matplotlib\n",
    "import matplotlib.pyplot as plt\n",
    "import seaborn as sb\n",
    "from pylab import rcParams\n",
    "%matplotlib inline\n",
    "\n",
    "\n",
    "\n",
    "\n",
    "\n",
    "\n",
    "\n",
    "\n",
    "#(1) Description of algorithm:\n",
    "#           Our algorithm is based on two sampling techniques: the inverse probability transform sampling and the Gibbs sampling.\n",
    "#    First, we want to get a way to sample points from a truncated exponential distribution. To do this, we apply the inverse probability\n",
    "#    transform by picking points from the uniform distribution and then compose it with the inverse cdf of the truncated exponential distribution.\n",
    "#    This step is realized by the function inverse_transform(B,y), which samples n points from an truncated exponential distribution with parameter\n",
    "#    y and whose range lies in [0,B].\n",
    "\n",
    "\n",
    "def conditional_dist(x, y): #computes the conditional distribution of x given y.\n",
    "    p = y * exp(-y * x)  #this is the conditional distribution of X given Y=y.\n",
    "    return p\n",
    "\n",
    "def cdf(x, y, B): #computes the cdf for conditional distribution function.\n",
    "    integeral_val = scipy.integrate.quad(conditional_dist, 0, B) #The integral of the conditional distribution from 0 to B.\n",
    "    const = 1/integeral_val  #normalizing constant.\n",
    "    cdf = const * conditional_dist  #to scale the conditional distribution so that it integrates to 1.\n",
    "    return cdf\n",
    "\n",
    "def inverse_transform(B, y): #implements the inverse probability transform.\n",
    "    cdf = np.random.uniform(0, 1)  #randomly pick a number in [0,1].\n",
    "    x = - math.log(1 - cdf * (1 - math.exp(-B * y)))/y  #apply the inverse of the cdf of the conditional distribution to it.\n",
    "    return x\n",
    "\n",
    "\n",
    "#    Second, we apply the Gibbs sampling to get an estimation of the joint distribution of X and Y. By assumption, the conditional\n",
    "#    distribution of x given y is the exponential distribution with parameter y and the conditional distribution of y given x is \n",
    "#    the exponential distribution with parameter x. Now, we first take one random number from 0 to B as the start value of y. Then\n",
    "#    given the value of y, we can sample a point from the conditional distribution of X given Y = y, which is the truncated exponential distribution \n",
    "#    to get a value of x. Then, given the value of x, we can again sample a point from the conditional distribution of Y given X = x,\n",
    "#    which is again an truncated exponential distribution to get a new value for y. We repeat the step above for T times to get T+1 samples of\n",
    "#    x and y. By the property of Gibbs sampling, we know that our sample will converges to the true joint distribution of X and Y.\n",
    "#    The above is implemented by the function gibbs(B,T), where [0,B] is the support for X and Y, and T is the number of iterations.\n",
    "\n",
    "\n",
    "def gibbs(B,T): #B is the upper bound for X and Y, and T is the number of iterations.\n",
    "    start_y = np.random.rand(1)*B  #Take a starting value of Y randomly from [0,B].\n",
    "    start_x = sample_exp(n = 1, k = start_y[0])   #Draw a starting value of X from the conditional distribution of X given Y=start_y.\n",
    "    start = concatenate((start_x, start_y), axis = None) #Put the starting values of X and Y together.\n",
    "    result = np.matrix(start)  #Create a matrix to save the value.\n",
    "    current_x = start_x[0]  #Set the current value to be the starting value.\n",
    "    current_y = start_y[0]  #Set the current value to be the starting value.\n",
    "    for i in range(T):  #run for T iterations.\n",
    "        current_y = inverse_transform(B, current_x)  #Update the value of Y by draw a point from the conditional distribution based on the current value of X.\n",
    "        current_x = inverse_transform(B, current_y)  #Update the value of X by draw a point from the conditional distribution based on the current value of Y.\n",
    "        current = concatenate((current_x, current_y), axis = None)  #Put the current values of X and Y together.\n",
    "        result = vstack((result, current))  #Save the current value to our matrix of samples.\n",
    "    return result\n",
    "\n",
    "#(2)Plot the sample\n",
    "\n",
    "sample1 = gibbs(B = 5, T = 500)  #Do Gibbs sampling to get 500 samples\n",
    "\n",
    "plt.hist(sample1[:,0])\n",
    "plt.show()\n",
    "\n",
    "\n",
    "sample2 = gibbs(B = 5, T = 5000)  #Do Gibbs sampling to get 5000 samples\n",
    "\n",
    "plt.hist(sample2[:,0])\n",
    "plt.show()\n",
    "\n",
    "sample3 = gibbs(B = 5, T = 50000)  #Do Gibbs sampling to get 50000 samples\n",
    "\n",
    "plt.hist(sample3[:,0])\n",
    "\n",
    "#(3)Estimation of the mean of X\n",
    "\n",
    "est1_x = np.mean(np.asarray(sample1[:,0]))\n",
    "print(est1_x)  #estimate of the mean of X using 500 samples\n",
    "\n",
    "est2_x = np.mean(np.asarray(sample2[:,0]))\n",
    "print(est2_x)  #estimate of the mean of X using 5000 samples\n",
    "\n",
    "est3_x = np.mean(np.asarray(sample3[:,0]))\n",
    "print(est3_x)  #estimate of the mean of X using 50000 samples\n"
   ]
  }
 ],
 "metadata": {
  "kernelspec": {
   "display_name": "Python 3",
   "language": "python",
   "name": "python3"
  },
  "language_info": {
   "codemirror_mode": {
    "name": "ipython",
    "version": 3
   },
   "file_extension": ".py",
   "mimetype": "text/x-python",
   "name": "python",
   "nbconvert_exporter": "python",
   "pygments_lexer": "ipython3",
   "version": "3.7.0"
  }
 },
 "nbformat": 4,
 "nbformat_minor": 2
}
