{
 "cells": [
  {
   "cell_type": "code",
   "execution_count": 128,
   "metadata": {},
   "outputs": [
    {
     "data": {
      "image/png": "[encoded data removed]",
      "text/plain": [
       "<Figure size 432x288 with 1 Axes>"
      ]
     },
     "metadata": {
      "needs_background": "light"
     },
     "output_type": "display_data"
    },
    {
     "data": {
      "image/png": "[encoded data removed]",
      "text/plain": [
       "<Figure size 432x288 with 1 Axes>"
      ]
     },
     "metadata": {
      "needs_background": "light"
     },
     "output_type": "display_data"
    },
    {
     "data": {
      "text/plain": [
       "(array([2.7759e+04, 1.2800e+02, 5.9000e+01, 4.8000e+01, 3.3000e+01,\n",
       "        2.4000e+01, 2.9000e+01, 2.1000e+01, 1.1000e+01, 1.4000e+01,\n",
       "        1.8000e+01, 9.0000e+00, 7.0000e+00, 1.3000e+01, 1.3000e+01]),\n",
       " array([0.        , 0.06666667, 0.13333333, 0.2       , 0.26666667,\n",
       "        0.33333333, 0.4       , 0.46666667, 0.53333333, 0.6       ,\n",
       "        0.66666667, 0.73333333, 0.8       , 0.86666667, 0.93333333,\n",
       "        1.        ]),\n",
       " <a list of 15 Patch objects>)"
      ]
     },
     "execution_count": 128,
     "metadata": {},
     "output_type": "execute_result"
    },
    {
     "data": {
      "image/png": "[encoded data removed]",
      "text/plain": [
       "<Figure size 432x288 with 1 Axes>"
      ]
     },
     "metadata": {
      "needs_background": "light"
     },
     "output_type": "display_data"
    }
   ],
   "source": [
    "import matplotlib\n",
    "%matplotlib inline\n",
    "import scipy\n",
    "from scipy import stats\n",
    "import numpy as np\n",
    "from numpy import vstack\n",
    "from numpy import concatenate\n",
    "from matplotlib import pyplot as plt\n",
    "\n",
    "def sample_exp(n, k): #k is the parameter for the exponential distribution\n",
    "    q=np.random.rand(n) #sample n points from a uniform distribution\n",
    "    result=stats.expon.ppf(q,loc=0,scale=1/k)  #take the inverse probability transform to get samples from an exponential distribution\n",
    "    return result\n",
    "\n",
    "def gibbs(B,T):\n",
    "    start_y = np.random.rand(1)*B\n",
    "    start_x = sample_exp(n = 1, k = start_y[0])\n",
    "    start = concatenate((start_x, start_y), axis = None)\n",
    "    result = np.matrix(start)\n",
    "    current_x = start_x[0]\n",
    "    current_y = start_y[0]\n",
    "    for i in range(T):\n",
    "        current_y = sample_exp(n = 1, k = current_x)\n",
    "        current_x = sample_exp(n = 1, k = current_y)\n",
    "        current = concatenate((current_x, current_y), axis = None)\n",
    "        result = vstack((result, current))\n",
    "    return result\n",
    "\n",
    "sample1 = gibbs(B = 5, T = 500)\n",
    "est1_x = np.mean(np.asarray(sample1[:,0]))\n",
    "plt.hist(np.asarray(sample1[:,0]), 15, range = (0,1))\n",
    "plt.show()\n",
    "\n",
    "sample2 = gibbs(B = 5, T = 5000)\n",
    "est2_x = np.mean(np.asarray(sample2[:,0]))\n",
    "plt.hist(np.asarray(sample2[:,0]), 15, range = (0,1))\n",
    "plt.show()\n",
    "\n",
    "sample3 = gibbs(B = 5, T = 50000)\n",
    "est3_x = np.mean(np.asarray(sample3[:,0]))\n",
    "plt.hist(np.asarray(sample3[:,0]), 15, range = (0,1))\n",
    "\n"
   ]
  }
 ],
 "metadata": {
  "kernelspec": {
   "display_name": "Python 3",
   "language": "python",
   "name": "python3"
  },
  "language_info": {
   "codemirror_mode": {
    "name": "ipython",
    "version": 3
   },
   "file_extension": ".py",
   "mimetype": "text/x-python",
   "name": "python",
   "nbconvert_exporter": "python",
   "pygments_lexer": "ipython3",
   "version": "3.7.0"
  }
 },
 "nbformat": 4,
 "nbformat_minor": 2
}
