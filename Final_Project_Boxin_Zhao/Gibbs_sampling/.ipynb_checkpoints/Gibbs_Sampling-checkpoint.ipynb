{
 "cells": [
  {
   "cell_type": "markdown",
   "metadata": {},
   "source": [
    "# 1. Alogorithm Description"
   ]
  },
  {
   "cell_type": "markdown",
   "metadata": {},
   "source": [
    "Our Alogorithm is as below:\n",
    "\n",
    "1. Generate $x_{0}\\sim{Uniform[0, B]} \\quad y_{0}\\sim{Uniform[0, B]}$  \n",
    "2. For t = 0 to (T - 1):  \n",
    "    2.1 Genertae $u_x\\sim{Uniform[0, 1]}$ and set $x_{t+1}=-\\frac{1}{y_{t}}log(1-(1-\\exp(-y_{t}B))u_x)$  \n",
    "    2.1 Generate $u_y\\sim{Uniform[0, 1]}$ and set $y_{t+1}=-\\frac{1}{x_{t+1}}log(1-(1-exp(-x_{t+1}B))u_y)$"
   ]
  },
  {
   "cell_type": "markdown",
   "metadata": {},
   "source": [
    "The implementation is shown below:"
   ]
  },
  {
   "cell_type": "code",
   "execution_count": 11,
   "metadata": {},
   "outputs": [],
   "source": [
    "import numpy as np\n",
    "import random as rand\n",
    "\n",
    "B = 5\n",
    "T = 500\n",
    "\n",
    "sample_record = np.zeros((T, 2))\n",
    "sample_record[0, 0] = rand.uniform(0, B)\n",
    "sample_record[0, 1] = rand.uniform(0, B)\n",
    "\n",
    "for t in np.arange(T-1):\n",
    "    x_t = sample_record[t, 0]\n",
    "    y_t = sample_record[t, 1]\n",
    "    u_x = rand.uniform(0, 1)\n",
    "    u_y = rand.uniform(0, 1)\n",
    "    x_tadd1 = -(1 / y_t) * np.log(1 - (1 - np.exp(-y_t * B)) * u_x)\n",
    "    sample_record[t + 1, 0] = x_tadd1\n",
    "    sample_record[t + 1, 1] = -(1 / x_tadd1) * np.log(1 - (1 - np.exp(- x_tadd1 * B)) * u_y)\n",
    "    \n",
    "sample_record = np.matrix(sample_record)"
   ]
  },
  {
   "cell_type": "markdown",
   "metadata": {},
   "source": [
    "# 2. Plot the histogram of values for x"
   ]
  },
  {
   "cell_type": "code",
   "execution_count": 12,
   "metadata": {},
   "outputs": [
    {
     "data": {
      "text/plain": [
       "(array([197.,  91.,  53.,  34.,  37.,  20.,  16.,  20.,  18.,  14.]),\n",
       " array([1.26835151e-03, 4.99508471e-01, 9.97748590e-01, 1.49598871e+00,\n",
       "        1.99422883e+00, 2.49246895e+00, 2.99070907e+00, 3.48894919e+00,\n",
       "        3.98718931e+00, 4.48542943e+00, 4.98366955e+00]),\n",
       " <a list of 10 Patch objects>)"
      ]
     },
     "execution_count": 12,
     "metadata": {},
     "output_type": "execute_result"
    },
    {
     "data": {
      "image/png": "[encoded data removed]",
      "text/plain": [
       "<Figure size 432x288 with 1 Axes>"
      ]
     },
     "metadata": {
      "needs_background": "light"
     },
     "output_type": "display_data"
    }
   ],
   "source": [
    "# T=  500\n",
    "\n",
    "import numpy as np\n",
    "import random as rand\n",
    "import matplotlib.pyplot as plt\n",
    "\n",
    "B = 5\n",
    "T = 500\n",
    "\n",
    "sample_record = np.zeros((T, 2))\n",
    "sample_record[0, 0] = rand.uniform(0, B)\n",
    "sample_record[0, 1] = rand.uniform(0, B)\n",
    "\n",
    "for t in np.arange(T-1):\n",
    "    x_t = sample_record[t, 0]\n",
    "    y_t = sample_record[t, 1]\n",
    "    u_x = rand.uniform(0, 1)\n",
    "    u_y = rand.uniform(0, 1)\n",
    "    x_tadd1 = -(1 / y_t) * np.log(1 - (1 - np.exp(-y_t * B)) * u_x)\n",
    "    sample_record[t + 1, 0] = x_tadd1\n",
    "    sample_record[t + 1, 1] = -(1 / x_tadd1) * np.log(1 - (1 - np.exp(- x_tadd1 * B)) * u_y)\n",
    "    \n",
    "sample_record = np.matrix(sample_record)    \n",
    "\n",
    "%matplotlib inline\n",
    "plt.hist(sample_record[:, 0])"
   ]
  },
  {
   "cell_type": "code",
   "execution_count": 13,
   "metadata": {},
   "outputs": [
    {
     "data": {
      "text/plain": [
       "(array([1983.,  903.,  537.,  366.,  302.,  255.,  184.,  175.,  158.,\n",
       "         137.]),\n",
       " array([1.34585478e-04, 5.00025549e-01, 9.99916512e-01, 1.49980747e+00,\n",
       "        1.99969844e+00, 2.49958940e+00, 2.99948036e+00, 3.49937133e+00,\n",
       "        3.99926229e+00, 4.49915325e+00, 4.99904422e+00]),\n",
       " <a list of 10 Patch objects>)"
      ]
     },
     "execution_count": 13,
     "metadata": {},
     "output_type": "execute_result"
    },
    {
     "data": {
      "image/png": "[encoded data removed]",
      "text/plain": [
       "<Figure size 432x288 with 1 Axes>"
      ]
     },
     "metadata": {
      "needs_background": "light"
     },
     "output_type": "display_data"
    }
   ],
   "source": [
    "# T=  5000\n",
    "\n",
    "import numpy as np\n",
    "import random as rand\n",
    "import matplotlib.pyplot as plt\n",
    "\n",
    "B = 5\n",
    "T = 5000\n",
    "\n",
    "sample_record = np.zeros((T, 2))\n",
    "sample_record[0, 0] = rand.uniform(0, B)\n",
    "sample_record[0, 1] = rand.uniform(0, B)\n",
    "\n",
    "for t in np.arange(T-1):\n",
    "    x_t = sample_record[t, 0]\n",
    "    y_t = sample_record[t, 1]\n",
    "    u_x = rand.uniform(0, 1)\n",
    "    u_y = rand.uniform(0, 1)\n",
    "    x_tadd1 = -(1 / y_t) * np.log(1 - (1 - np.exp(-y_t * B)) * u_x)\n",
    "    sample_record[t + 1, 0] = x_tadd1\n",
    "    sample_record[t + 1, 1] = -(1 / x_tadd1) * np.log(1 - (1 - np.exp(- x_tadd1 * B)) * u_y)\n",
    "    \n",
    "sample_record = np.matrix(sample_record)    \n",
    "\n",
    "%matplotlib inline\n",
    "plt.hist(sample_record[:, 0])"
   ]
  },
  {
   "cell_type": "code",
   "execution_count": 14,
   "metadata": {},
   "outputs": [
    {
     "data": {
      "text/plain": [
       "(array([20218.,  8536.,  5390.,  3766.,  2957.,  2446.,  2045.,  1745.,\n",
       "         1473.,  1424.]),\n",
       " array([1.48639325e-05, 4.99974833e-01, 9.99934802e-01, 1.49989477e+00,\n",
       "        1.99985474e+00, 2.49981471e+00, 2.99977468e+00, 3.49973465e+00,\n",
       "        3.99969462e+00, 4.49965458e+00, 4.99961455e+00]),\n",
       " <a list of 10 Patch objects>)"
      ]
     },
     "execution_count": 14,
     "metadata": {},
     "output_type": "execute_result"
    },
    {
     "data": {
      "image/png": "[encoded data removed]",
      "text/plain": [
       "<Figure size 432x288 with 1 Axes>"
      ]
     },
     "metadata": {
      "needs_background": "light"
     },
     "output_type": "display_data"
    }
   ],
   "source": [
    "# T=  50000\n",
    "\n",
    "import numpy as np\n",
    "import random as rand\n",
    "import matplotlib.pyplot as plt\n",
    "\n",
    "B = 5\n",
    "T = 50000\n",
    "\n",
    "sample_record = np.zeros((T, 2))\n",
    "sample_record[0, 0] = rand.uniform(0, B)\n",
    "sample_record[0, 1] = rand.uniform(0, B)\n",
    "\n",
    "for t in np.arange(T-1):\n",
    "    x_t = sample_record[t, 0]\n",
    "    y_t = sample_record[t, 1]\n",
    "    u_x = rand.uniform(0, 1)\n",
    "    u_y = rand.uniform(0, 1)\n",
    "    x_tadd1 = -(1 / y_t) * np.log(1 - (1 - np.exp(-y_t * B)) * u_x)\n",
    "    sample_record[t + 1, 0] = x_tadd1\n",
    "    sample_record[t + 1, 1] = -(1 / x_tadd1) * np.log(1 - (1 - np.exp(- x_tadd1 * B)) * u_y)\n",
    "    \n",
    "sample_record = np.matrix(sample_record)    \n",
    "\n",
    "%matplotlib inline\n",
    "plt.hist(sample_record[:, 0])"
   ]
  },
  {
   "cell_type": "markdown",
   "metadata": {},
   "source": [
    "# 3. Estimation of Expectation"
   ]
  },
  {
   "cell_type": "code",
   "execution_count": 15,
   "metadata": {},
   "outputs": [
    {
     "data": {
      "text/plain": [
       "1.1296581833637178"
      ]
     },
     "execution_count": 15,
     "metadata": {},
     "output_type": "execute_result"
    }
   ],
   "source": [
    "# T = 500\n",
    "\n",
    "import numpy as np\n",
    "import random as rand\n",
    "\n",
    "B = 5\n",
    "T = 500\n",
    "\n",
    "sample_record = np.zeros((T, 2))\n",
    "sample_record[0, 0] = rand.uniform(0, B)\n",
    "sample_record[0, 1] = rand.uniform(0, B)\n",
    "\n",
    "for t in np.arange(T-1):\n",
    "    x_t = sample_record[t, 0]\n",
    "    y_t = sample_record[t, 1]\n",
    "    u_x = rand.uniform(0, 1)\n",
    "    u_y = rand.uniform(0, 1)\n",
    "    x_tadd1 = -(1 / y_t) * np.log(1 - (1 - np.exp(-y_t * B)) * u_x)\n",
    "    sample_record[t + 1, 0] = x_tadd1\n",
    "    sample_record[t + 1, 1] = -(1 / x_tadd1) * np.log(1 - (1 - np.exp(- x_tadd1 * B)) * u_y)\n",
    "    \n",
    "sample_record = np.matrix(sample_record)\n",
    "\n",
    "estimated_expec = sample_record.mean(0)[0, 0]\n",
    "estimated_expec"
   ]
  },
  {
   "cell_type": "code",
   "execution_count": 16,
   "metadata": {},
   "outputs": [
    {
     "data": {
      "text/plain": [
       "1.2242680849525611"
      ]
     },
     "execution_count": 16,
     "metadata": {},
     "output_type": "execute_result"
    }
   ],
   "source": [
    "# T = 5000\n",
    "\n",
    "import numpy as np\n",
    "import random as rand\n",
    "\n",
    "B = 5\n",
    "T = 5000\n",
    "\n",
    "sample_record = np.zeros((T, 2))\n",
    "sample_record[0, 0] = rand.uniform(0, B)\n",
    "sample_record[0, 1] = rand.uniform(0, B)\n",
    "\n",
    "for t in np.arange(T-1):\n",
    "    x_t = sample_record[t, 0]\n",
    "    y_t = sample_record[t, 1]\n",
    "    u_x = rand.uniform(0, 1)\n",
    "    u_y = rand.uniform(0, 1)\n",
    "    x_tadd1 = -(1 / y_t) * np.log(1 - (1 - np.exp(-y_t * B)) * u_x)\n",
    "    sample_record[t + 1, 0] = x_tadd1\n",
    "    sample_record[t + 1, 1] = -(1 / x_tadd1) * np.log(1 - (1 - np.exp(- x_tadd1 * B)) * u_y)\n",
    "    \n",
    "sample_record = np.matrix(sample_record)\n",
    "\n",
    "estimated_expec = sample_record.mean(0)[0, 0]\n",
    "estimated_expec"
   ]
  },
  {
   "cell_type": "code",
   "execution_count": 17,
   "metadata": {},
   "outputs": [
    {
     "data": {
      "text/plain": [
       "1.2619017909294812"
      ]
     },
     "execution_count": 17,
     "metadata": {},
     "output_type": "execute_result"
    }
   ],
   "source": [
    "## T = 50000\n",
    "\n",
    "import numpy as np\n",
    "import random as rand\n",
    "\n",
    "B = 5\n",
    "T = 50000\n",
    "\n",
    "sample_record = np.zeros((T, 2))\n",
    "sample_record[0, 0] = rand.uniform(0, B)\n",
    "sample_record[0, 1] = rand.uniform(0, B)\n",
    "\n",
    "for t in np.arange(T-1):\n",
    "    x_t = sample_record[t, 0]\n",
    "    y_t = sample_record[t, 1]\n",
    "    u_x = rand.uniform(0, 1)\n",
    "    u_y = rand.uniform(0, 1)\n",
    "    x_tadd1 = -(1 / y_t) * np.log(1 - (1 - np.exp(-y_t * B)) * u_x)\n",
    "    sample_record[t + 1, 0] = x_tadd1\n",
    "    sample_record[t + 1, 1] = -(1 / x_tadd1) * np.log(1 - (1 - np.exp(- x_tadd1 * B)) * u_y)\n",
    "    \n",
    "sample_record = np.matrix(sample_record)\n",
    "\n",
    "estimated_expec = sample_record.mean(0)[0, 0]\n",
    "estimated_expec"
   ]
  }
 ],
 "metadata": {
  "kernelspec": {
   "display_name": "Python 3",
   "language": "python",
   "name": "python3"
  },
  "language_info": {
   "codemirror_mode": {
    "name": "ipython",
    "version": 3
   },
   "file_extension": ".py",
   "mimetype": "text/x-python",
   "name": "python",
   "nbconvert_exporter": "python",
   "pygments_lexer": "ipython3",
   "version": "3.7.0"
  }
 },
 "nbformat": 4,
 "nbformat_minor": 2
}
